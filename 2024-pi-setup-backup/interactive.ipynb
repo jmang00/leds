{
 "cells": [
  {
   "cell_type": "code",
   "execution_count": 6,
   "metadata": {},
   "outputs": [
    {
     "name": "stdout",
     "output_type": "stream",
     "text": [
      "Loading scene 'line'.\n",
      "Found config file.\n",
      "\n",
      "Initializing LEDs.\n",
      "No scan found. Unless you are using a line layout, you will need to scan the scene before running effects.\n"
     ]
    }
   ],
   "source": [
    "from dynamic_leds import DynamicLeds\n",
    "dl = DynamicLeds()\n",
    "dl.load_scene('line')\n",
    "l = dl.scene.leds"
   ]
  },
  {
   "cell_type": "code",
   "execution_count": 5,
   "metadata": {},
   "outputs": [],
   "source": [
    "l[5] = [255,255,255]"
   ]
  },
  {
   "cell_type": "code",
   "execution_count": null,
   "metadata": {},
   "outputs": [],
   "source": []
  }
 ],
 "metadata": {
  "kernelspec": {
   "display_name": "Python 3",
   "language": "python",
   "name": "python3"
  },
  "language_info": {
   "codemirror_mode": {
    "name": "ipython",
    "version": 3
   },
   "file_extension": ".py",
   "mimetype": "text/x-python",
   "name": "python",
   "nbconvert_exporter": "python",
   "pygments_lexer": "ipython3",
   "version": "3.11.2"
  }
 },
 "nbformat": 4,
 "nbformat_minor": 2
}
